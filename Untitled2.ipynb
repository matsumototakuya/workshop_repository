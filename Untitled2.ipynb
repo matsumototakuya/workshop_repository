{
 "cells": [
  {
   "cell_type": "code",
   "execution_count": 1,
   "metadata": {},
   "outputs": [],
   "source": [
    "#ライブラリのimport\n",
    "import numpy as np\n",
    "import pandas as pd\n",
    "#可視化ライブラリ\n",
    "import matplotlib.pyplot as plt\n",
    "import seaborn as sns\n",
    "%matplotlib inline"
   ]
  },
  {
   "cell_type": "code",
   "execution_count": 2,
   "metadata": {},
   "outputs": [],
   "source": [
    "#scikit-learn関係のインポート\n",
    "#データセット\n",
    "from sklearn import datasets\n",
    "#ランダムフォレスト回帰のクラスをRFRというあだ名をつけてimport\n",
    "from sklearn.ensemble import RandomForestRegressor as RFR\n",
    "\n",
    "#教師データとテストデータに分割してくれる\n",
    "from sklearn.model_selection import train_test_split\n",
    "\n",
    "#平均二乗誤差を計算する関数\n",
    "from sklearn.metrics import mean_squared_error\n",
    "\n",
    "#もしパラメータ検索がしたい場合は以下もimport\n",
    "from sklearn.model_selection import GridSearchCV\n",
    "\n",
    "#もしデータの標準化がしたい場合は以下もimport\n",
    "from sklearn.preprocessing import StandardScaler"
   ]
  },
  {
   "cell_type": "code",
   "execution_count": 74,
   "metadata": {},
   "outputs": [],
   "source": [
    "###ボストンデータの読み込み\n",
    "boston=pd.read_excel('Downloads/basutienn.xlsx')\n",
    "# boston.iloc[:,1:5].head()\n",
    "\n",
    "# 教師データとテストデータに分割\n",
    "train_data,test_data,train_target,test_target=train_test_split(boston.iloc[:,1:5],boston.iloc[:,5],test_size=0.2)"
   ]
  },
  {
   "cell_type": "code",
   "execution_count": 75,
   "metadata": {},
   "outputs": [
    {
     "data": {
      "text/plain": [
       "RandomForestRegressor(bootstrap=True, criterion='mse', max_depth=None,\n",
       "                      max_features='auto', max_leaf_nodes=None,\n",
       "                      min_impurity_decrease=0.0, min_impurity_split=None,\n",
       "                      min_samples_leaf=1, min_samples_split=2,\n",
       "                      min_weight_fraction_leaf=0.0, n_estimators=5, n_jobs=1,\n",
       "                      oob_score=False, random_state=0, verbose=0,\n",
       "                      warm_start=False)"
      ]
     },
     "execution_count": 75,
     "metadata": {},
     "output_type": "execute_result"
    }
   ],
   "source": [
    "#回帰分析\n",
    "#ランダムフォレスト回帰\n",
    "#Rn_jobsに使えるコア数を指定しておく\n",
    "rg=RFR(n_jobs=1,random_state=0,n_estimators=5) #n_jobs=1でコアすべてを使って並列に学習できる\n",
    "rg.fit(train_data,train_target)#訓練"
   ]
  },
  {
   "cell_type": "code",
   "execution_count": 76,
   "metadata": {},
   "outputs": [
    {
     "data": {
      "text/plain": [
       "0.07344500000000001"
      ]
     },
     "execution_count": 76,
     "metadata": {},
     "output_type": "execute_result"
    }
   ],
   "source": [
    "#学習結果の確認\n",
    "#訓練データ\n",
    "predicted_train_target=rg.predict(train_data)\n",
    "mean_squared_error(train_target,predicted_train_target)"
   ]
  },
  {
   "cell_type": "code",
   "execution_count": 77,
   "metadata": {},
   "outputs": [
    {
     "data": {
      "text/plain": [
       "0.5197499999999999"
      ]
     },
     "execution_count": 77,
     "metadata": {},
     "output_type": "execute_result"
    }
   ],
   "source": [
    "#テストデータ\n",
    "predicted_test_target=rg.predict(test_data)\n",
    "mean_squared_error(test_target,predicted_test_target)"
   ]
  },
  {
   "cell_type": "code",
   "execution_count": 78,
   "metadata": {},
   "outputs": [
    {
     "data": {
      "text/plain": [
       "0.7143249742356579"
      ]
     },
     "execution_count": 78,
     "metadata": {},
     "output_type": "execute_result"
    }
   ],
   "source": [
    "#R^２のスコア\n",
    "rg.score(test_data,test_target)"
   ]
  },
  {
   "cell_type": "markdown",
   "metadata": {},
   "source": [
    "# Gridsearch"
   ]
  },
  {
   "cell_type": "code",
   "execution_count": 58,
   "metadata": {},
   "outputs": [],
   "source": [
    "# from sklearn.model_selection import GridSearchCV, StratifiedKFold"
   ]
  },
  {
   "cell_type": "code",
   "execution_count": 59,
   "metadata": {},
   "outputs": [],
   "source": [
    "# param_grid={'n_estimators':[10,25,50,75,100,500]}\n",
    "# kf = StratifiedKFold(n_splits = 5, shuffle=True, random_state=0)"
   ]
  },
  {
   "cell_type": "code",
   "execution_count": 60,
   "metadata": {},
   "outputs": [],
   "source": [
    "# gs_rfc = GridSearchCV(RFR(),param_grid, cv=kf)"
   ]
  },
  {
   "cell_type": "code",
   "execution_count": 61,
   "metadata": {},
   "outputs": [],
   "source": [
    "# gs_rfc.fit(train_data,train_target)"
   ]
  },
  {
   "cell_type": "code",
   "execution_count": null,
   "metadata": {},
   "outputs": [],
   "source": []
  }
 ],
 "metadata": {
  "kernelspec": {
   "display_name": "Python 3",
   "language": "python",
   "name": "python3"
  },
  "language_info": {
   "codemirror_mode": {
    "name": "ipython",
    "version": 3
   },
   "file_extension": ".py",
   "mimetype": "text/x-python",
   "name": "python",
   "nbconvert_exporter": "python",
   "pygments_lexer": "ipython3",
   "version": "3.7.3"
  }
 },
 "nbformat": 4,
 "nbformat_minor": 2
}
